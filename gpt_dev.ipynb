{
  "nbformat": 4,
  "nbformat_minor": 0,
  "metadata": {
    "colab": {
      "provenance": [],
      "mount_file_id": "1iR7Bx6sth2ywzep0I-MkgHH4dSzd__qw",
      "authorship_tag": "ABX9TyMLnrr4wywq67afJC+xPEPw",
      "include_colab_link": true
    },
    "kernelspec": {
      "name": "python3",
      "display_name": "Python 3"
    },
    "language_info": {
      "name": "python"
    }
  },
  "cells": [
    {
      "cell_type": "markdown",
      "metadata": {
        "id": "view-in-github",
        "colab_type": "text"
      },
      "source": [
        "<a href=\"https://colab.research.google.com/github/S18-Niloy/Greatest_players_gpt/blob/main/gpt_dev.ipynb\" target=\"_parent\"><img src=\"https://colab.research.google.com/assets/colab-badge.svg\" alt=\"Open In Colab\"/></a>"
      ]
    },
    {
      "cell_type": "code",
      "source": [
        "#read it in\n",
        "with open(\"input.txt\",\"r\",encoding=\"utf-8\") as f:\n",
        "  text = f.read()"
      ],
      "metadata": {
        "id": "z-JHGD0xF8tJ"
      },
      "execution_count": 24,
      "outputs": []
    },
    {
      "cell_type": "code",
      "source": [
        "#length of the text\n",
        "length = len(text)\n",
        "print(length)"
      ],
      "metadata": {
        "colab": {
          "base_uri": "https://localhost:8080/"
        },
        "id": "f5gc1u7LF8qp",
        "outputId": "00ebe656-2df0-4fc2-dbe0-7d2bbe3de8d4"
      },
      "execution_count": 25,
      "outputs": [
        {
          "output_type": "stream",
          "name": "stdout",
          "text": [
            "17354\n"
          ]
        }
      ]
    },
    {
      "cell_type": "code",
      "source": [
        "#checking the first 1000 words\n",
        "print(text[:1000])"
      ],
      "metadata": {
        "colab": {
          "base_uri": "https://localhost:8080/"
        },
        "id": "FfZVuEXpF8n5",
        "outputId": "20468058-e6c0-461f-84d0-a0f0013cebff"
      },
      "execution_count": 40,
      "outputs": [
        {
          "output_type": "stream",
          "name": "stdout",
          "text": [
            "10. George Best\n",
            "\n",
            "Best’s extraordinary natural talent not only made him one of the most iconic and entertaining players there has been, but the finest from the British Isles.\n",
            "\n",
            "“If I’d been ugly,” he once said, “You’d never have heard of Pele.” Although that may be a stretch, it was an acknowledgement that, for all of his ability, his womanising stopped him from achieving even more.\n",
            "\n",
            "It was in 1968 that, aged 22 – his pace, belief, technical ability, balance and creativity in perfect symmetry – Best deservedly followed the other two of United's ‘Holy Trinity’ (Bobby Charlton and Denis Law) in winning the Ballon d’Or.\n",
            "\n",
            "Best had made his debut for United in 1963 - a boyhood Wolves fan, the Belfast boy was rejected by local club Glentoran for being too small. That didn’t look like a great decision, as the wide man soon began to take British football by storm.\n",
            "\n",
            "“My best performance was for Northern Ireland against Scotland,” he once told FFT. “We were expected to get slaughtered, but we won \n"
          ]
        }
      ]
    },
    {
      "cell_type": "code",
      "source": [
        "#all unique  characters\n",
        "char = sorted(list(set(text)))\n",
        "len_char = len(char)\n",
        "print(''.join(char))\n",
        "print(len_char)"
      ],
      "metadata": {
        "colab": {
          "base_uri": "https://localhost:8080/"
        },
        "id": "kNuIpYnQF8kx",
        "outputId": "e648a85b-a556-4648-e19c-da4b63fdcfb1"
      },
      "execution_count": 41,
      "outputs": [
        {
          "output_type": "stream",
          "name": "stdout",
          "text": [
            "\n",
            " '(),-./0123456789:;?ABCDEFGHIJKLMNOPQRSTUVWYZabcdefghijklmnopqrstuvwxyz£ç–‘’“”…\n",
            "81\n"
          ]
        }
      ]
    },
    {
      "cell_type": "code",
      "source": [
        "#create a mapping from characters to integers\n",
        "stoi = {ch:i for i, ch in enumerate(char)}\n",
        "itos = {i:ch for i, ch in enumerate(char)}\n",
        "\n",
        "encode = lambda s:[stoi[c] for c in s]\n",
        "decode = lambda l: ''.join([itos[i] for i in l])\n",
        "\n",
        "x = \"messi\"\n",
        "print(encode(x))\n",
        "print(decode(encode('messi')))"
      ],
      "metadata": {
        "colab": {
          "base_uri": "https://localhost:8080/"
        },
        "id": "BA8BgD4mF8iR",
        "outputId": "cb9b3064-64d2-4514-df89-e867fb5e2b3b"
      },
      "execution_count": 42,
      "outputs": [
        {
          "output_type": "stream",
          "name": "stdout",
          "text": [
            "[59, 51, 65, 65, 55]\n",
            "messi\n"
          ]
        }
      ]
    },
    {
      "cell_type": "code",
      "source": [
        "#encode the entire dataset\n",
        "import torch\n",
        "data = torch.tensor(encode(text),dtype = torch.long)\n",
        "print(data.shape, data.dtype)\n",
        "print(data[:1000])"
      ],
      "metadata": {
        "colab": {
          "base_uri": "https://localhost:8080/"
        },
        "id": "XuRVVwtAF8RK",
        "outputId": "cdad822c-efcf-4e8c-b3ea-8bb31eba0b90"
      },
      "execution_count": 54,
      "outputs": [
        {
          "output_type": "stream",
          "name": "stdout",
          "text": [
            "torch.Size([17354]) torch.int64\n",
            "tensor([10,  9,  7,  1, 28, 51, 61, 64, 53, 51,  1, 23, 51, 65, 66,  0,  0, 23,\n",
            "        51, 65, 66, 77, 65,  1, 51, 70, 66, 64, 47, 61, 64, 50, 55, 60, 47, 64,\n",
            "        71,  1, 60, 47, 66, 67, 64, 47, 58,  1, 66, 47, 58, 51, 60, 66,  1, 60,\n",
            "        61, 66,  1, 61, 60, 58, 71,  1, 59, 47, 50, 51,  1, 54, 55, 59,  1, 61,\n",
            "        60, 51,  1, 61, 52,  1, 66, 54, 51,  1, 59, 61, 65, 66,  1, 55, 49, 61,\n",
            "        60, 55, 49,  1, 47, 60, 50,  1, 51, 60, 66, 51, 64, 66, 47, 55, 60, 55,\n",
            "        60, 53,  1, 62, 58, 47, 71, 51, 64, 65,  1, 66, 54, 51, 64, 51,  1, 54,\n",
            "        47, 65,  1, 48, 51, 51, 60,  5,  1, 48, 67, 66,  1, 66, 54, 51,  1, 52,\n",
            "        55, 60, 51, 65, 66,  1, 52, 64, 61, 59,  1, 66, 54, 51,  1, 23, 64, 55,\n",
            "        66, 55, 65, 54,  1, 30, 65, 58, 51, 65,  7,  0,  0, 78, 30, 52,  1, 30,\n",
            "        77, 50,  1, 48, 51, 51, 60,  1, 67, 53, 58, 71,  5, 79,  1, 54, 51,  1,\n",
            "        61, 60, 49, 51,  1, 65, 47, 55, 50,  5,  1, 78, 45, 61, 67, 77, 50,  1,\n",
            "        60, 51, 68, 51, 64,  1, 54, 47, 68, 51,  1, 54, 51, 47, 64, 50,  1, 61,\n",
            "        52,  1, 37, 51, 58, 51,  7, 79,  1, 22, 58, 66, 54, 61, 67, 53, 54,  1,\n",
            "        66, 54, 47, 66,  1, 59, 47, 71,  1, 48, 51,  1, 47,  1, 65, 66, 64, 51,\n",
            "        66, 49, 54,  5,  1, 55, 66,  1, 69, 47, 65,  1, 47, 60,  1, 47, 49, 57,\n",
            "        60, 61, 69, 58, 51, 50, 53, 51, 59, 51, 60, 66,  1, 66, 54, 47, 66,  5,\n",
            "         1, 52, 61, 64,  1, 47, 58, 58,  1, 61, 52,  1, 54, 55, 65,  1, 47, 48,\n",
            "        55, 58, 55, 66, 71,  5,  1, 54, 55, 65,  1, 69, 61, 59, 47, 60, 55, 65,\n",
            "        55, 60, 53,  1, 65, 66, 61, 62, 62, 51, 50,  1, 54, 55, 59,  1, 52, 64,\n",
            "        61, 59,  1, 47, 49, 54, 55, 51, 68, 55, 60, 53,  1, 51, 68, 51, 60,  1,\n",
            "        59, 61, 64, 51,  7,  0,  0, 30, 66,  1, 69, 47, 65,  1, 55, 60,  1, 10,\n",
            "        18, 15, 17,  1, 66, 54, 47, 66,  5,  1, 47, 53, 51, 50,  1, 11, 11,  1,\n",
            "        75,  1, 54, 55, 65,  1, 62, 47, 49, 51,  5,  1, 48, 51, 58, 55, 51, 52,\n",
            "         5,  1, 66, 51, 49, 54, 60, 55, 49, 47, 58,  1, 47, 48, 55, 58, 55, 66,\n",
            "        71,  5,  1, 48, 47, 58, 47, 60, 49, 51,  1, 47, 60, 50,  1, 49, 64, 51,\n",
            "        47, 66, 55, 68, 55, 66, 71,  1, 55, 60,  1, 62, 51, 64, 52, 51, 49, 66,\n",
            "         1, 65, 71, 59, 59, 51, 66, 64, 71,  1, 75,  1, 23, 51, 65, 66,  1, 50,\n",
            "        51, 65, 51, 64, 68, 51, 50, 58, 71,  1, 52, 61, 58, 58, 61, 69, 51, 50,\n",
            "         1, 66, 54, 51,  1, 61, 66, 54, 51, 64,  1, 66, 69, 61,  1, 61, 52,  1,\n",
            "        42, 60, 55, 66, 51, 50,  2, 65,  1, 76, 29, 61, 58, 71,  1, 41, 64, 55,\n",
            "        60, 55, 66, 71, 77,  1,  3, 23, 61, 48, 48, 71,  1, 24, 54, 47, 64, 58,\n",
            "        66, 61, 60,  1, 47, 60, 50,  1, 25, 51, 60, 55, 65,  1, 33, 47, 69,  4,\n",
            "         1, 55, 60,  1, 69, 55, 60, 60, 55, 60, 53,  1, 66, 54, 51,  1, 23, 47,\n",
            "        58, 58, 61, 60,  1, 50, 77, 36, 64,  7,  0,  0, 23, 51, 65, 66,  1, 54,\n",
            "        47, 50,  1, 59, 47, 50, 51,  1, 54, 55, 65,  1, 50, 51, 48, 67, 66,  1,\n",
            "        52, 61, 64,  1, 42, 60, 55, 66, 51, 50,  1, 55, 60,  1, 10, 18, 15, 12,\n",
            "         1,  6,  1, 47,  1, 48, 61, 71, 54, 61, 61, 50,  1, 44, 61, 58, 68, 51,\n",
            "        65,  1, 52, 47, 60,  5,  1, 66, 54, 51,  1, 23, 51, 58, 52, 47, 65, 66,\n",
            "         1, 48, 61, 71,  1, 69, 47, 65,  1, 64, 51, 56, 51, 49, 66, 51, 50,  1,\n",
            "        48, 71,  1, 58, 61, 49, 47, 58,  1, 49, 58, 67, 48,  1, 28, 58, 51, 60,\n",
            "        66, 61, 64, 47, 60,  1, 52, 61, 64,  1, 48, 51, 55, 60, 53,  1, 66, 61,\n",
            "        61,  1, 65, 59, 47, 58, 58,  7,  1, 41, 54, 47, 66,  1, 50, 55, 50, 60,\n",
            "        77, 66,  1, 58, 61, 61, 57,  1, 58, 55, 57, 51,  1, 47,  1, 53, 64, 51,\n",
            "        47, 66,  1, 50, 51, 49, 55, 65, 55, 61, 60,  5,  1, 47, 65,  1, 66, 54,\n",
            "        51,  1, 69, 55, 50, 51,  1, 59, 47, 60,  1, 65, 61, 61, 60,  1, 48, 51,\n",
            "        53, 47, 60,  1, 66, 61,  1, 66, 47, 57, 51,  1, 23, 64, 55, 66, 55, 65,\n",
            "        54,  1, 52, 61, 61, 66, 48, 47, 58, 58,  1, 48, 71,  1, 65, 66, 61, 64,\n",
            "        59,  7,  0,  0, 78, 34, 71,  1, 48, 51, 65, 66,  1, 62, 51, 64, 52, 61,\n",
            "        64, 59, 47, 60, 49, 51,  1, 69, 47, 65,  1, 52, 61, 64,  1, 35, 61, 64,\n",
            "        66, 54, 51, 64, 60,  1, 30, 64, 51, 58, 47, 60, 50,  1, 47, 53, 47, 55,\n",
            "        60, 65, 66,  1, 40, 49, 61, 66, 58, 47, 60, 50,  5, 79,  1, 54, 51,  1,\n",
            "        61, 60, 49, 51,  1, 66, 61, 58, 50,  1, 27, 27, 41,  7,  1, 78, 44, 51,\n",
            "         1, 69, 51, 64, 51,  1, 51, 70, 62, 51, 49, 66, 51, 50,  1, 66, 61,  1,\n",
            "        53, 51, 66,  1, 65, 58, 47, 67, 53, 54, 66, 51, 64, 51, 50,  5,  1, 48,\n",
            "        67, 66,  1, 69, 51,  1, 69, 61, 60,  1])\n"
          ]
        }
      ]
    }
  ]
}