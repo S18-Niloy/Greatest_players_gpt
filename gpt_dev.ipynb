{
  "nbformat": 4,
  "nbformat_minor": 0,
  "metadata": {
    "colab": {
      "provenance": [],
      "mount_file_id": "1iR7Bx6sth2ywzep0I-MkgHH4dSzd__qw",
      "authorship_tag": "ABX9TyMdkOZroXB1whs6F3cN58HN",
      "include_colab_link": true
    },
    "kernelspec": {
      "name": "python3",
      "display_name": "Python 3"
    },
    "language_info": {
      "name": "python"
    }
  },
  "cells": [
    {
      "cell_type": "markdown",
      "metadata": {
        "id": "view-in-github",
        "colab_type": "text"
      },
      "source": [
        "<a href=\"https://colab.research.google.com/github/S18-Niloy/Greatest_players_gpt/blob/main/gpt_dev.ipynb\" target=\"_parent\"><img src=\"https://colab.research.google.com/assets/colab-badge.svg\" alt=\"Open In Colab\"/></a>"
      ]
    },
    {
      "cell_type": "code",
      "source": [
        "#read it in\n",
        "with open(\"input.txt\",\"r\",encoding=\"utf-8\") as f:\n",
        "  text = f.read()"
      ],
      "metadata": {
        "id": "z-JHGD0xF8tJ"
      },
      "execution_count": 24,
      "outputs": []
    },
    {
      "cell_type": "code",
      "source": [
        "#length of the text\n",
        "length = len(text)\n",
        "print(length)"
      ],
      "metadata": {
        "colab": {
          "base_uri": "https://localhost:8080/"
        },
        "id": "f5gc1u7LF8qp",
        "outputId": "00ebe656-2df0-4fc2-dbe0-7d2bbe3de8d4"
      },
      "execution_count": 25,
      "outputs": [
        {
          "output_type": "stream",
          "name": "stdout",
          "text": [
            "17354\n"
          ]
        }
      ]
    },
    {
      "cell_type": "code",
      "source": [
        "#checking the first 1000 words\n",
        "print(text[:1000])"
      ],
      "metadata": {
        "colab": {
          "base_uri": "https://localhost:8080/"
        },
        "id": "FfZVuEXpF8n5",
        "outputId": "20468058-e6c0-461f-84d0-a0f0013cebff"
      },
      "execution_count": 40,
      "outputs": [
        {
          "output_type": "stream",
          "name": "stdout",
          "text": [
            "10. George Best\n",
            "\n",
            "Best’s extraordinary natural talent not only made him one of the most iconic and entertaining players there has been, but the finest from the British Isles.\n",
            "\n",
            "“If I’d been ugly,” he once said, “You’d never have heard of Pele.” Although that may be a stretch, it was an acknowledgement that, for all of his ability, his womanising stopped him from achieving even more.\n",
            "\n",
            "It was in 1968 that, aged 22 – his pace, belief, technical ability, balance and creativity in perfect symmetry – Best deservedly followed the other two of United's ‘Holy Trinity’ (Bobby Charlton and Denis Law) in winning the Ballon d’Or.\n",
            "\n",
            "Best had made his debut for United in 1963 - a boyhood Wolves fan, the Belfast boy was rejected by local club Glentoran for being too small. That didn’t look like a great decision, as the wide man soon began to take British football by storm.\n",
            "\n",
            "“My best performance was for Northern Ireland against Scotland,” he once told FFT. “We were expected to get slaughtered, but we won \n"
          ]
        }
      ]
    },
    {
      "cell_type": "code",
      "source": [
        "#all unique  characters\n",
        "char = sorted(list(set(text)))\n",
        "len_char = len(char)\n",
        "print(''.join(char))\n",
        "print(len_char)"
      ],
      "metadata": {
        "colab": {
          "base_uri": "https://localhost:8080/"
        },
        "id": "kNuIpYnQF8kx",
        "outputId": "e648a85b-a556-4648-e19c-da4b63fdcfb1"
      },
      "execution_count": 41,
      "outputs": [
        {
          "output_type": "stream",
          "name": "stdout",
          "text": [
            "\n",
            " '(),-./0123456789:;?ABCDEFGHIJKLMNOPQRSTUVWYZabcdefghijklmnopqrstuvwxyz£ç–‘’“”…\n",
            "81\n"
          ]
        }
      ]
    },
    {
      "cell_type": "code",
      "source": [
        "#create a mapping from characters to integers\n",
        "stoi = {ch:i for i, ch in enumerate(char)}\n",
        "itos = {i:ch for i, ch in enumerate(char)}\n",
        "\n",
        "encode = lambda s:[stoi[c] for c in s]\n",
        "decode = lambda l: ''.join([itos[i] for i in l])\n",
        "\n",
        "x = \"messi\"\n",
        "print(encode(x))\n",
        "print(decode(encode('messi')))"
      ],
      "metadata": {
        "colab": {
          "base_uri": "https://localhost:8080/"
        },
        "id": "BA8BgD4mF8iR",
        "outputId": "cb9b3064-64d2-4514-df89-e867fb5e2b3b"
      },
      "execution_count": 42,
      "outputs": [
        {
          "output_type": "stream",
          "name": "stdout",
          "text": [
            "[59, 51, 65, 65, 55]\n",
            "messi\n"
          ]
        }
      ]
    },
    {
      "cell_type": "code",
      "source": [
        "#encode the entire dataset\n",
        "import torch\n",
        "data = torch.tensor(encode(text),dtype = torch.long)\n",
        "print(data.shape, data.dtype)\n",
        "print(data[:1000])"
      ],
      "metadata": {
        "colab": {
          "base_uri": "https://localhost:8080/"
        },
        "id": "XuRVVwtAF8RK",
        "outputId": "cdad822c-efcf-4e8c-b3ea-8bb31eba0b90"
      },
      "execution_count": 54,
      "outputs": [
        {
          "output_type": "stream",
          "name": "stdout",
          "text": [
            "torch.Size([17354]) torch.int64\n",
            "tensor([10,  9,  7,  1, 28, 51, 61, 64, 53, 51,  1, 23, 51, 65, 66,  0,  0, 23,\n",
            "        51, 65, 66, 77, 65,  1, 51, 70, 66, 64, 47, 61, 64, 50, 55, 60, 47, 64,\n",
            "        71,  1, 60, 47, 66, 67, 64, 47, 58,  1, 66, 47, 58, 51, 60, 66,  1, 60,\n",
            "        61, 66,  1, 61, 60, 58, 71,  1, 59, 47, 50, 51,  1, 54, 55, 59,  1, 61,\n",
            "        60, 51,  1, 61, 52,  1, 66, 54, 51,  1, 59, 61, 65, 66,  1, 55, 49, 61,\n",
            "        60, 55, 49,  1, 47, 60, 50,  1, 51, 60, 66, 51, 64, 66, 47, 55, 60, 55,\n",
            "        60, 53,  1, 62, 58, 47, 71, 51, 64, 65,  1, 66, 54, 51, 64, 51,  1, 54,\n",
            "        47, 65,  1, 48, 51, 51, 60,  5,  1, 48, 67, 66,  1, 66, 54, 51,  1, 52,\n",
            "        55, 60, 51, 65, 66,  1, 52, 64, 61, 59,  1, 66, 54, 51,  1, 23, 64, 55,\n",
            "        66, 55, 65, 54,  1, 30, 65, 58, 51, 65,  7,  0,  0, 78, 30, 52,  1, 30,\n",
            "        77, 50,  1, 48, 51, 51, 60,  1, 67, 53, 58, 71,  5, 79,  1, 54, 51,  1,\n",
            "        61, 60, 49, 51,  1, 65, 47, 55, 50,  5,  1, 78, 45, 61, 67, 77, 50,  1,\n",
            "        60, 51, 68, 51, 64,  1, 54, 47, 68, 51,  1, 54, 51, 47, 64, 50,  1, 61,\n",
            "        52,  1, 37, 51, 58, 51,  7, 79,  1, 22, 58, 66, 54, 61, 67, 53, 54,  1,\n",
            "        66, 54, 47, 66,  1, 59, 47, 71,  1, 48, 51,  1, 47,  1, 65, 66, 64, 51,\n",
            "        66, 49, 54,  5,  1, 55, 66,  1, 69, 47, 65,  1, 47, 60,  1, 47, 49, 57,\n",
            "        60, 61, 69, 58, 51, 50, 53, 51, 59, 51, 60, 66,  1, 66, 54, 47, 66,  5,\n",
            "         1, 52, 61, 64,  1, 47, 58, 58,  1, 61, 52,  1, 54, 55, 65,  1, 47, 48,\n",
            "        55, 58, 55, 66, 71,  5,  1, 54, 55, 65,  1, 69, 61, 59, 47, 60, 55, 65,\n",
            "        55, 60, 53,  1, 65, 66, 61, 62, 62, 51, 50,  1, 54, 55, 59,  1, 52, 64,\n",
            "        61, 59,  1, 47, 49, 54, 55, 51, 68, 55, 60, 53,  1, 51, 68, 51, 60,  1,\n",
            "        59, 61, 64, 51,  7,  0,  0, 30, 66,  1, 69, 47, 65,  1, 55, 60,  1, 10,\n",
            "        18, 15, 17,  1, 66, 54, 47, 66,  5,  1, 47, 53, 51, 50,  1, 11, 11,  1,\n",
            "        75,  1, 54, 55, 65,  1, 62, 47, 49, 51,  5,  1, 48, 51, 58, 55, 51, 52,\n",
            "         5,  1, 66, 51, 49, 54, 60, 55, 49, 47, 58,  1, 47, 48, 55, 58, 55, 66,\n",
            "        71,  5,  1, 48, 47, 58, 47, 60, 49, 51,  1, 47, 60, 50,  1, 49, 64, 51,\n",
            "        47, 66, 55, 68, 55, 66, 71,  1, 55, 60,  1, 62, 51, 64, 52, 51, 49, 66,\n",
            "         1, 65, 71, 59, 59, 51, 66, 64, 71,  1, 75,  1, 23, 51, 65, 66,  1, 50,\n",
            "        51, 65, 51, 64, 68, 51, 50, 58, 71,  1, 52, 61, 58, 58, 61, 69, 51, 50,\n",
            "         1, 66, 54, 51,  1, 61, 66, 54, 51, 64,  1, 66, 69, 61,  1, 61, 52,  1,\n",
            "        42, 60, 55, 66, 51, 50,  2, 65,  1, 76, 29, 61, 58, 71,  1, 41, 64, 55,\n",
            "        60, 55, 66, 71, 77,  1,  3, 23, 61, 48, 48, 71,  1, 24, 54, 47, 64, 58,\n",
            "        66, 61, 60,  1, 47, 60, 50,  1, 25, 51, 60, 55, 65,  1, 33, 47, 69,  4,\n",
            "         1, 55, 60,  1, 69, 55, 60, 60, 55, 60, 53,  1, 66, 54, 51,  1, 23, 47,\n",
            "        58, 58, 61, 60,  1, 50, 77, 36, 64,  7,  0,  0, 23, 51, 65, 66,  1, 54,\n",
            "        47, 50,  1, 59, 47, 50, 51,  1, 54, 55, 65,  1, 50, 51, 48, 67, 66,  1,\n",
            "        52, 61, 64,  1, 42, 60, 55, 66, 51, 50,  1, 55, 60,  1, 10, 18, 15, 12,\n",
            "         1,  6,  1, 47,  1, 48, 61, 71, 54, 61, 61, 50,  1, 44, 61, 58, 68, 51,\n",
            "        65,  1, 52, 47, 60,  5,  1, 66, 54, 51,  1, 23, 51, 58, 52, 47, 65, 66,\n",
            "         1, 48, 61, 71,  1, 69, 47, 65,  1, 64, 51, 56, 51, 49, 66, 51, 50,  1,\n",
            "        48, 71,  1, 58, 61, 49, 47, 58,  1, 49, 58, 67, 48,  1, 28, 58, 51, 60,\n",
            "        66, 61, 64, 47, 60,  1, 52, 61, 64,  1, 48, 51, 55, 60, 53,  1, 66, 61,\n",
            "        61,  1, 65, 59, 47, 58, 58,  7,  1, 41, 54, 47, 66,  1, 50, 55, 50, 60,\n",
            "        77, 66,  1, 58, 61, 61, 57,  1, 58, 55, 57, 51,  1, 47,  1, 53, 64, 51,\n",
            "        47, 66,  1, 50, 51, 49, 55, 65, 55, 61, 60,  5,  1, 47, 65,  1, 66, 54,\n",
            "        51,  1, 69, 55, 50, 51,  1, 59, 47, 60,  1, 65, 61, 61, 60,  1, 48, 51,\n",
            "        53, 47, 60,  1, 66, 61,  1, 66, 47, 57, 51,  1, 23, 64, 55, 66, 55, 65,\n",
            "        54,  1, 52, 61, 61, 66, 48, 47, 58, 58,  1, 48, 71,  1, 65, 66, 61, 64,\n",
            "        59,  7,  0,  0, 78, 34, 71,  1, 48, 51, 65, 66,  1, 62, 51, 64, 52, 61,\n",
            "        64, 59, 47, 60, 49, 51,  1, 69, 47, 65,  1, 52, 61, 64,  1, 35, 61, 64,\n",
            "        66, 54, 51, 64, 60,  1, 30, 64, 51, 58, 47, 60, 50,  1, 47, 53, 47, 55,\n",
            "        60, 65, 66,  1, 40, 49, 61, 66, 58, 47, 60, 50,  5, 79,  1, 54, 51,  1,\n",
            "        61, 60, 49, 51,  1, 66, 61, 58, 50,  1, 27, 27, 41,  7,  1, 78, 44, 51,\n",
            "         1, 69, 51, 64, 51,  1, 51, 70, 62, 51, 49, 66, 51, 50,  1, 66, 61,  1,\n",
            "        53, 51, 66,  1, 65, 58, 47, 67, 53, 54, 66, 51, 64, 51, 50,  5,  1, 48,\n",
            "        67, 66,  1, 69, 51,  1, 69, 61, 60,  1])\n"
          ]
        }
      ]
    },
    {
      "cell_type": "code",
      "source": [
        "#splitting data into train and validation\n",
        "n = int(0.9*len(text))\n",
        "train_data = data[:n]\n",
        "validation = data[n:]"
      ],
      "metadata": {
        "id": "xnN_5g0xTv8_"
      },
      "execution_count": 57,
      "outputs": []
    },
    {
      "cell_type": "code",
      "source": [
        "block_size = 8\n",
        "train_data[:block_size+1]"
      ],
      "metadata": {
        "colab": {
          "base_uri": "https://localhost:8080/"
        },
        "id": "MxBwAHTsUL-E",
        "outputId": "bed8403f-4674-4c35-ab31-8e2752f9abbc"
      },
      "execution_count": 58,
      "outputs": [
        {
          "output_type": "execute_result",
          "data": {
            "text/plain": [
              "tensor([10,  9,  7,  1, 28, 51, 61, 64, 53])"
            ]
          },
          "metadata": {},
          "execution_count": 58
        }
      ]
    },
    {
      "cell_type": "code",
      "source": [
        "x = train_data[:block_size]\n",
        "y = train_data[1:block_size+1]\n",
        "\n",
        "for t in range(block_size):\n",
        "  context = x[:t+1]\n",
        "  target = y[t]\n",
        "  print(f\"when context is:{context} the target:{target} \")"
      ],
      "metadata": {
        "colab": {
          "base_uri": "https://localhost:8080/"
        },
        "id": "3eR2BGV6UL61",
        "outputId": "dedf1ca5-a14f-4acf-ec31-ae56d4c0edc8"
      },
      "execution_count": 59,
      "outputs": [
        {
          "output_type": "stream",
          "name": "stdout",
          "text": [
            "when context is:tensor([10]) the target:9 \n",
            "when context is:tensor([10,  9]) the target:7 \n",
            "when context is:tensor([10,  9,  7]) the target:1 \n",
            "when context is:tensor([10,  9,  7,  1]) the target:28 \n",
            "when context is:tensor([10,  9,  7,  1, 28]) the target:51 \n",
            "when context is:tensor([10,  9,  7,  1, 28, 51]) the target:61 \n",
            "when context is:tensor([10,  9,  7,  1, 28, 51, 61]) the target:64 \n",
            "when context is:tensor([10,  9,  7,  1, 28, 51, 61, 64]) the target:53 \n"
          ]
        }
      ]
    },
    {
      "cell_type": "code",
      "source": [
        "torch.manual_seed(1337)\n",
        "batch_size = 4 # how many independent sequences will we process in parallel?\n",
        "block_size = 8 # what is the maximum context length for predictions?\n",
        "\n",
        "def get_batch(split):\n",
        "    # generate a small batch of data of inputs x and targets y\n",
        "    data = train_data if split == 'train' else val_data\n",
        "    ix = torch.randint(len(data) - block_size, (batch_size,))\n",
        "    x = torch.stack([data[i:i+block_size] for i in ix])\n",
        "    y = torch.stack([data[i+1:i+block_size+1] for i in ix])\n",
        "    return x, y\n",
        "\n",
        "xb, yb = get_batch('train')\n",
        "print('inputs:')\n",
        "print(xb.shape)\n",
        "print(xb)\n",
        "print('targets:')\n",
        "print(yb.shape)\n",
        "print(yb)\n",
        "\n",
        "print('----')\n",
        "\n",
        "for b in range(batch_size): # batch dimension\n",
        "    for t in range(block_size): # time dimension\n",
        "        context = xb[b, :t+1]\n",
        "        target = yb[b,t]\n",
        "        print(f\"when input is {context.tolist()} the target: {target}\")"
      ],
      "metadata": {
        "colab": {
          "base_uri": "https://localhost:8080/"
        },
        "id": "pwWsV6M-UL4U",
        "outputId": "cb86e555-71e4-462e-b137-2437a3ec55c1"
      },
      "execution_count": 60,
      "outputs": [
        {
          "output_type": "stream",
          "name": "stdout",
          "text": [
            "inputs:\n",
            "torch.Size([4, 8])\n",
            "tensor([[61, 52,  1, 66, 54, 51,  1, 59],\n",
            "        [61, 60, 55, 57, 51, 64,  7,  1],\n",
            "        [55, 51, 64, 65,  1, 34, 61, 64],\n",
            "        [77, 65,  1, 48, 51, 51, 60,  1]])\n",
            "targets:\n",
            "torch.Size([4, 8])\n",
            "tensor([[52,  1, 66, 54, 51,  1, 59, 61],\n",
            "        [60, 55, 57, 51, 64,  7,  1, 23],\n",
            "        [51, 64, 65,  1, 34, 61, 64, 53],\n",
            "        [65,  1, 48, 51, 51, 60,  1, 50]])\n",
            "----\n",
            "when input is [61] the target: 52\n",
            "when input is [61, 52] the target: 1\n",
            "when input is [61, 52, 1] the target: 66\n",
            "when input is [61, 52, 1, 66] the target: 54\n",
            "when input is [61, 52, 1, 66, 54] the target: 51\n",
            "when input is [61, 52, 1, 66, 54, 51] the target: 1\n",
            "when input is [61, 52, 1, 66, 54, 51, 1] the target: 59\n",
            "when input is [61, 52, 1, 66, 54, 51, 1, 59] the target: 61\n",
            "when input is [61] the target: 60\n",
            "when input is [61, 60] the target: 55\n",
            "when input is [61, 60, 55] the target: 57\n",
            "when input is [61, 60, 55, 57] the target: 51\n",
            "when input is [61, 60, 55, 57, 51] the target: 64\n",
            "when input is [61, 60, 55, 57, 51, 64] the target: 7\n",
            "when input is [61, 60, 55, 57, 51, 64, 7] the target: 1\n",
            "when input is [61, 60, 55, 57, 51, 64, 7, 1] the target: 23\n",
            "when input is [55] the target: 51\n",
            "when input is [55, 51] the target: 64\n",
            "when input is [55, 51, 64] the target: 65\n",
            "when input is [55, 51, 64, 65] the target: 1\n",
            "when input is [55, 51, 64, 65, 1] the target: 34\n",
            "when input is [55, 51, 64, 65, 1, 34] the target: 61\n",
            "when input is [55, 51, 64, 65, 1, 34, 61] the target: 64\n",
            "when input is [55, 51, 64, 65, 1, 34, 61, 64] the target: 53\n",
            "when input is [77] the target: 65\n",
            "when input is [77, 65] the target: 1\n",
            "when input is [77, 65, 1] the target: 48\n",
            "when input is [77, 65, 1, 48] the target: 51\n",
            "when input is [77, 65, 1, 48, 51] the target: 51\n",
            "when input is [77, 65, 1, 48, 51, 51] the target: 60\n",
            "when input is [77, 65, 1, 48, 51, 51, 60] the target: 1\n",
            "when input is [77, 65, 1, 48, 51, 51, 60, 1] the target: 50\n"
          ]
        }
      ]
    },
    {
      "cell_type": "code",
      "source": [
        "print(xb) # our input to the transformer"
      ],
      "metadata": {
        "colab": {
          "base_uri": "https://localhost:8080/"
        },
        "id": "IWmfimTqULwF",
        "outputId": "61b6dbc2-590c-4fbe-df1b-f3a60dabbe26"
      },
      "execution_count": 61,
      "outputs": [
        {
          "output_type": "stream",
          "name": "stdout",
          "text": [
            "tensor([[61, 52,  1, 66, 54, 51,  1, 59],\n",
            "        [61, 60, 55, 57, 51, 64,  7,  1],\n",
            "        [55, 51, 64, 65,  1, 34, 61, 64],\n",
            "        [77, 65,  1, 48, 51, 51, 60,  1]])\n"
          ]
        }
      ]
    },
    {
      "cell_type": "code",
      "source": [
        "import torch\n",
        "import torch.nn as nn\n",
        "from torch.nn import functional as F\n",
        "torch.manual_seed(1337)\n",
        "\n",
        "class BigramLanguageModel(nn.Module):\n",
        "\n",
        "    def __init__(self, vocab_size):\n",
        "        super().__init__()\n",
        "        # each token directly reads off the logits for the next token from a lookup table\n",
        "        self.token_embedding_table = nn.Embedding(vocab_size, vocab_size)\n",
        "\n",
        "    def forward(self, idx, targets=None):\n",
        "\n",
        "        # idx and targets are both (B,T) tensor of integers\n",
        "        logits = self.token_embedding_table(idx) # (B,T,C)\n",
        "\n",
        "        if targets is None:\n",
        "            loss = None\n",
        "        else:\n",
        "            B, T, C = logits.shape\n",
        "            logits = logits.view(B*T, C)\n",
        "            targets = targets.view(B*T)\n",
        "            loss = F.cross_entropy(logits, targets)\n",
        "\n",
        "        return logits, loss\n",
        "\n",
        "    def generate(self, idx, max_new_tokens):\n",
        "        # idx is (B, T) array of indices in the current context\n",
        "        for _ in range(max_new_tokens):\n",
        "            # get the predictions\n",
        "            logits, loss = self(idx)\n",
        "            # focus only on the last time step\n",
        "            logits = logits[:, -1, :] # becomes (B, C)\n",
        "            # apply softmax to get probabilities\n",
        "            probs = F.softmax(logits, dim=-1) # (B, C)\n",
        "            # sample from the distribution\n",
        "            idx_next = torch.multinomial(probs, num_samples=1) # (B, 1)\n",
        "            # append sampled index to the running sequence\n",
        "            idx = torch.cat((idx, idx_next), dim=1) # (B, T+1)\n",
        "        return idx\n",
        "\n",
        "m = BigramLanguageModel(len_char)\n",
        "logits, loss = m(xb, yb)\n",
        "print(logits.shape)\n",
        "print(loss)\n",
        "\n",
        "print(decode(m.generate(idx = torch.zeros((1, 1), dtype=torch.long), max_new_tokens=100)[0].tolist()))"
      ],
      "metadata": {
        "colab": {
          "base_uri": "https://localhost:8080/"
        },
        "id": "qj9PuWadW_ZJ",
        "outputId": "437b1142-2b83-4c06-83fa-08c60e19b723"
      },
      "execution_count": 63,
      "outputs": [
        {
          "output_type": "stream",
          "name": "stdout",
          "text": [
            "torch.Size([32, 81])\n",
            "tensor(5.0899, grad_fn=<NllLossBackward0>)\n",
            "\n",
            "…S0C–DS0-Pdvl4çd:”-(‘\n",
            "6.'“…w:;76RZ67?E JwWoDt7EsOZgd ;CP6etb\n",
            "uo7c–,-.GU.G8‘6vHneS/IkPdURILqETe1‘An85\n"
          ]
        }
      ]
    },
    {
      "cell_type": "code",
      "source": [
        "import torch\n",
        "import torch.nn as nn\n",
        "from torch.nn import functional as F\n",
        "torch.manual_seed(1337)\n",
        "\n",
        "class BigramLanguageModel(nn.Module):\n",
        "\n",
        "    def __init__(self, vocab_size):\n",
        "        super().__init__()\n",
        "        # each token directly reads off the logits for the next token from a lookup table\n",
        "        self.token_embedding_table = nn.Embedding(vocab_size, vocab_size)\n",
        "\n",
        "    def forward(self, idx, targets=None):\n",
        "\n",
        "        # idx and targets are both (B,T) tensor of integers\n",
        "        logits = self.token_embedding_table(idx) # (B,T,C)\n",
        "\n",
        "        if targets is None:\n",
        "            loss = None\n",
        "        else:\n",
        "            B, T, C = logits.shape\n",
        "            logits = logits.view(B*T, C)\n",
        "            targets = targets.view(B*T)\n",
        "            loss = F.cross_entropy(logits, targets)\n",
        "\n",
        "        return logits, loss\n",
        "\n",
        "    def generate(self, idx, max_new_tokens):\n",
        "        # idx is (B, T) array of indices in the current context\n",
        "        for _ in range(max_new_tokens):\n",
        "            # get the predictions\n",
        "            logits, loss = self(idx)\n",
        "            # focus only on the last time step\n",
        "            logits = logits[:, -1, :] # becomes (B, C)\n",
        "            # apply softmax to get probabilities\n",
        "            probs = F.softmax(logits, dim=-1) # (B, C)\n",
        "            # sample from the distribution\n",
        "            idx_next = torch.multinomial(probs, num_samples=1) # (B, 1)\n",
        "            # append sampled index to the running sequence\n",
        "            idx = torch.cat((idx, idx_next), dim=1) # (B, T+1)\n",
        "        return idx\n",
        "\n",
        "m = BigramLanguageModel(len_char)\n",
        "logits, loss = m(xb, yb)\n",
        "print(logits.shape)\n",
        "print(loss)\n",
        "\n",
        "print(decode(m.generate(idx = torch.zeros((1, 1), dtype=torch.long), max_new_tokens=100)[0].tolist()))\n"
      ],
      "metadata": {
        "colab": {
          "base_uri": "https://localhost:8080/"
        },
        "id": "rhZsalCmW_WZ",
        "outputId": "cffe72b3-0216-4653-b90b-0faaf0f8065d"
      },
      "execution_count": 65,
      "outputs": [
        {
          "output_type": "stream",
          "name": "stdout",
          "text": [
            "torch.Size([32, 81])\n",
            "tensor(5.0899, grad_fn=<NllLossBackward0>)\n",
            "\n",
            "…S0C–DS0-Pdvl4çd:”-(‘\n",
            "6.'“…w:;76RZ67?E JwWoDt7EsOZgd ;CP6etb\n",
            "uo7c–,-.GU.G8‘6vHneS/IkPdURILqETe1‘An85\n"
          ]
        }
      ]
    },
    {
      "cell_type": "code",
      "source": [
        "# create a PyTorch optimizer\n",
        "optimizer = torch.optim.AdamW(m.parameters(), lr=1e-3)"
      ],
      "metadata": {
        "id": "AXuVFLGhW_MS"
      },
      "execution_count": 66,
      "outputs": []
    },
    {
      "cell_type": "code",
      "source": [
        "batch_size = 32\n",
        "for steps in range(100): # increase number of steps for good results...\n",
        "\n",
        "    # sample a batch of data\n",
        "    xb, yb = get_batch('train')\n",
        "\n",
        "    # evaluate the loss\n",
        "    logits, loss = m(xb, yb)\n",
        "    optimizer.zero_grad(set_to_none=True)\n",
        "    loss.backward()\n",
        "    optimizer.step()\n",
        "\n",
        "print(loss.item())"
      ],
      "metadata": {
        "colab": {
          "base_uri": "https://localhost:8080/"
        },
        "id": "iZ5NgBCpYgh2",
        "outputId": "f5ce27a7-b585-46c2-f691-1155ce6d939b"
      },
      "execution_count": 70,
      "outputs": [
        {
          "output_type": "stream",
          "name": "stdout",
          "text": [
            "4.62875509262085\n"
          ]
        }
      ]
    },
    {
      "cell_type": "code",
      "source": [
        "print(decode(m.generate(idx = torch.zeros((1, 1), dtype=torch.long), max_new_tokens=500)[0].tolist()))"
      ],
      "metadata": {
        "colab": {
          "base_uri": "https://localhost:8080/"
        },
        "id": "U-eoU3XmYkNQ",
        "outputId": "5aef6f8d-414b-4272-ce1f-a9b98464b8e8"
      },
      "execution_count": 68,
      "outputs": [
        {
          "output_type": "stream",
          "name": "stdout",
          "text": [
            "\n",
            "–oBvLWUS:gGvupS£YbqoR;6R; q9Ir)C-dq(’W-UDY(…?Bz-'mem0gN;\n",
            "pNQQ£m8F(D0P£mzm8tV£mn£We2kh\n",
            "…\n",
            "b’OU9Gc:gZNA.RDT0.ji7“Pd(U/…3EreW9gjB:6vNPBt7t(7;8B.xQ3Rkf7Mç?m”85RB)5E67t\n",
            "dc£ZçChC?““8q\n",
            "URGGgdOCpV0jB'Bh“’R)C/8Gg-ZxN…vUekV;zW1\n",
            "a/“5:B8ZçU6Uc9’tn’Lw,78SnkE9,BksCHh…':G-MVuPZç?Ig;h-Ff)‘\n",
            "hNV.p0EsGU£s”,‘Qri’QT-lJJJyh0Yo8/8z:gyF£W/8y9G/”O c:jiM)\n",
            "W/8S0/8MudCLdq5 GTE;xOa.mBegB;dçz)ç)e3c1bZoYSzov5£Iy1v,KO.w(6G1w)Q.oNN,fV’ILqoczpoc?eO'k4çYY.'FLW)R.\n",
            "z‘ix3Elp'h6R’eq1B/6nFV0Ho(ç2zY,R;nZaJ9k4RBaIfQ3,VODk8A4)N–f4\n",
            "htOU4A5\n"
          ]
        }
      ]
    },
    {
      "cell_type": "code",
      "source": [
        "# toy example illustrating how matrix multiplication can be used for a \"weighted aggregation\"\n",
        "torch.manual_seed(42)\n",
        "a = torch.tril(torch.ones(3, 3))\n",
        "a = a / torch.sum(a, 1, keepdim=True)\n",
        "b = torch.randint(0,10,(3,2)).float()\n",
        "c = a @ b\n",
        "print('a=')\n",
        "print(a)\n",
        "print('--')\n",
        "print('b=')\n",
        "print(b)\n",
        "print('--')\n",
        "print('c=')\n",
        "print(c)"
      ],
      "metadata": {
        "colab": {
          "base_uri": "https://localhost:8080/"
        },
        "id": "NEwEwfcpZMpC",
        "outputId": "3502e432-da80-42e4-f3dc-3bd789f7cac7"
      },
      "execution_count": 71,
      "outputs": [
        {
          "output_type": "stream",
          "name": "stdout",
          "text": [
            "a=\n",
            "tensor([[1.0000, 0.0000, 0.0000],\n",
            "        [0.5000, 0.5000, 0.0000],\n",
            "        [0.3333, 0.3333, 0.3333]])\n",
            "--\n",
            "b=\n",
            "tensor([[2., 7.],\n",
            "        [6., 4.],\n",
            "        [6., 5.]])\n",
            "--\n",
            "c=\n",
            "tensor([[2.0000, 7.0000],\n",
            "        [4.0000, 5.5000],\n",
            "        [4.6667, 5.3333]])\n"
          ]
        }
      ]
    },
    {
      "cell_type": "code",
      "source": [
        "# consider the following toy example:\n",
        "\n",
        "torch.manual_seed(1337)\n",
        "B,T,C = 4,8,2 # batch, time, channels\n",
        "x = torch.randn(B,T,C)\n",
        "x.shape"
      ],
      "metadata": {
        "colab": {
          "base_uri": "https://localhost:8080/"
        },
        "id": "tlielecwZdFk",
        "outputId": "2652771d-f501-4be6-a109-3fe4f6dc2810"
      },
      "execution_count": 72,
      "outputs": [
        {
          "output_type": "execute_result",
          "data": {
            "text/plain": [
              "torch.Size([4, 8, 2])"
            ]
          },
          "metadata": {},
          "execution_count": 72
        }
      ]
    },
    {
      "cell_type": "code",
      "source": [
        "# We want x[b,t] = mean_{i<=t} x[b,i]\n",
        "xbow = torch.zeros((B,T,C))\n",
        "for b in range(B):\n",
        "    for t in range(T):\n",
        "        xprev = x[b,:t+1] # (t,C)\n",
        "        xbow[b,t] = torch.mean(xprev, 0)"
      ],
      "metadata": {
        "id": "3iKotx-zZfmU"
      },
      "execution_count": 73,
      "outputs": []
    },
    {
      "cell_type": "code",
      "source": [
        "# version 2: using matrix multiply for a weighted aggregation\n",
        "wei = torch.tril(torch.ones(T, T))\n",
        "wei = wei / wei.sum(1, keepdim=True)\n",
        "xbow2 = wei @ x # (B, T, T) @ (B, T, C) ----> (B, T, C)\n",
        "torch.allclose(xbow, xbow2)"
      ],
      "metadata": {
        "colab": {
          "base_uri": "https://localhost:8080/"
        },
        "id": "PY4xlYCLZixE",
        "outputId": "4ec10f66-64db-4158-c006-37478696ca88"
      },
      "execution_count": 74,
      "outputs": [
        {
          "output_type": "execute_result",
          "data": {
            "text/plain": [
              "True"
            ]
          },
          "metadata": {},
          "execution_count": 74
        }
      ]
    },
    {
      "cell_type": "code",
      "source": [
        "# version 3: use Softmax\n",
        "tril = torch.tril(torch.ones(T, T))\n",
        "wei = torch.zeros((T,T))\n",
        "wei = wei.masked_fill(tril == 0, float('-inf'))\n",
        "wei = F.softmax(wei, dim=-1)\n",
        "xbow3 = wei @ x\n",
        "torch.allclose(xbow, xbow3)\n"
      ],
      "metadata": {
        "colab": {
          "base_uri": "https://localhost:8080/"
        },
        "id": "yR2goGbnZlW1",
        "outputId": "a4fdca15-5ab3-42f0-a153-fd432ace3863"
      },
      "execution_count": 75,
      "outputs": [
        {
          "output_type": "execute_result",
          "data": {
            "text/plain": [
              "True"
            ]
          },
          "metadata": {},
          "execution_count": 75
        }
      ]
    },
    {
      "cell_type": "code",
      "source": [
        "# version 4: self-attention!\n",
        "torch.manual_seed(1337)\n",
        "B,T,C = 4,8,32 # batch, time, channels\n",
        "x = torch.randn(B,T,C)\n",
        "\n",
        "# let's see a single Head perform self-attention\n",
        "head_size = 16\n",
        "key = nn.Linear(C, head_size, bias=False)\n",
        "query = nn.Linear(C, head_size, bias=False)\n",
        "value = nn.Linear(C, head_size, bias=False)\n",
        "k = key(x)   # (B, T, 16)\n",
        "q = query(x) # (B, T, 16)\n",
        "wei =  q @ k.transpose(-2, -1) # (B, T, 16) @ (B, 16, T) ---> (B, T, T)\n",
        "\n",
        "tril = torch.tril(torch.ones(T, T))\n",
        "#wei = torch.zeros((T,T))\n",
        "wei = wei.masked_fill(tril == 0, float('-inf'))\n",
        "wei = F.softmax(wei, dim=-1)\n",
        "\n",
        "v = value(x)\n",
        "out = wei @ v\n",
        "#out = wei @ x\n",
        "\n",
        "out.shape"
      ],
      "metadata": {
        "colab": {
          "base_uri": "https://localhost:8080/"
        },
        "id": "mqJxL4_OZojF",
        "outputId": "7a8f2c40-2e6f-41a7-d90d-720d5e7cbc83"
      },
      "execution_count": 76,
      "outputs": [
        {
          "output_type": "execute_result",
          "data": {
            "text/plain": [
              "torch.Size([4, 8, 16])"
            ]
          },
          "metadata": {},
          "execution_count": 76
        }
      ]
    },
    {
      "cell_type": "code",
      "source": [
        "wei[0]"
      ],
      "metadata": {
        "colab": {
          "base_uri": "https://localhost:8080/"
        },
        "id": "FyKV0y38Zrvt",
        "outputId": "31f36791-5517-4704-b40c-3c792fddb05c"
      },
      "execution_count": 77,
      "outputs": [
        {
          "output_type": "execute_result",
          "data": {
            "text/plain": [
              "tensor([[1.0000, 0.0000, 0.0000, 0.0000, 0.0000, 0.0000, 0.0000, 0.0000],\n",
              "        [0.1574, 0.8426, 0.0000, 0.0000, 0.0000, 0.0000, 0.0000, 0.0000],\n",
              "        [0.2088, 0.1646, 0.6266, 0.0000, 0.0000, 0.0000, 0.0000, 0.0000],\n",
              "        [0.5792, 0.1187, 0.1889, 0.1131, 0.0000, 0.0000, 0.0000, 0.0000],\n",
              "        [0.0294, 0.1052, 0.0469, 0.0276, 0.7909, 0.0000, 0.0000, 0.0000],\n",
              "        [0.0176, 0.2689, 0.0215, 0.0089, 0.6812, 0.0019, 0.0000, 0.0000],\n",
              "        [0.1691, 0.4066, 0.0438, 0.0416, 0.1048, 0.2012, 0.0329, 0.0000],\n",
              "        [0.0210, 0.0843, 0.0555, 0.2297, 0.0573, 0.0709, 0.2423, 0.2391]],\n",
              "       grad_fn=<SelectBackward0>)"
            ]
          },
          "metadata": {},
          "execution_count": 77
        }
      ]
    },
    {
      "cell_type": "code",
      "source": [
        "k = torch.randn(B,T,head_size)\n",
        "q = torch.randn(B,T,head_size)\n",
        "wei = q @ k.transpose(-2, -1) * head_size**-0.5"
      ],
      "metadata": {
        "id": "7P0Rg8AKZ982"
      },
      "execution_count": 78,
      "outputs": []
    },
    {
      "cell_type": "code",
      "source": [
        "k.var()"
      ],
      "metadata": {
        "colab": {
          "base_uri": "https://localhost:8080/"
        },
        "id": "3Riy3RaCaAue",
        "outputId": "d9accb29-cef5-4521-a57f-e3105ec0fe17"
      },
      "execution_count": 79,
      "outputs": [
        {
          "output_type": "execute_result",
          "data": {
            "text/plain": [
              "tensor(1.0449)"
            ]
          },
          "metadata": {},
          "execution_count": 79
        }
      ]
    },
    {
      "cell_type": "code",
      "source": [
        "q.var()"
      ],
      "metadata": {
        "colab": {
          "base_uri": "https://localhost:8080/"
        },
        "id": "rSfazyuraCOu",
        "outputId": "f363f6ef-f45a-4374-a91d-c01ed8d29fda"
      },
      "execution_count": 80,
      "outputs": [
        {
          "output_type": "execute_result",
          "data": {
            "text/plain": [
              "tensor(1.0700)"
            ]
          },
          "metadata": {},
          "execution_count": 80
        }
      ]
    },
    {
      "cell_type": "code",
      "source": [
        "wei.var()"
      ],
      "metadata": {
        "colab": {
          "base_uri": "https://localhost:8080/"
        },
        "id": "-7uB3JrhaFOe",
        "outputId": "932f4557-c32e-4bff-f280-264b269ef8b8"
      },
      "execution_count": 81,
      "outputs": [
        {
          "output_type": "execute_result",
          "data": {
            "text/plain": [
              "tensor(1.0918)"
            ]
          },
          "metadata": {},
          "execution_count": 81
        }
      ]
    },
    {
      "cell_type": "code",
      "source": [
        "torch.softmax(torch.tensor([0.1, -0.2, 0.3, -0.2, 0.5]), dim=-1)"
      ],
      "metadata": {
        "colab": {
          "base_uri": "https://localhost:8080/"
        },
        "id": "WNt3C7ZDaIAm",
        "outputId": "6c17e7cd-7238-4625-aa2f-f9dbc75f33a0"
      },
      "execution_count": 82,
      "outputs": [
        {
          "output_type": "execute_result",
          "data": {
            "text/plain": [
              "tensor([0.1925, 0.1426, 0.2351, 0.1426, 0.2872])"
            ]
          },
          "metadata": {},
          "execution_count": 82
        }
      ]
    },
    {
      "cell_type": "code",
      "source": [
        "torch.softmax(torch.tensor([0.1, -0.2, 0.3, -0.2, 0.5])*8, dim=-1) # gets too peaky, converges to one-hot"
      ],
      "metadata": {
        "colab": {
          "base_uri": "https://localhost:8080/"
        },
        "id": "zCxu-S_2aODv",
        "outputId": "44d88130-41cd-4f55-8153-15171eb1ca4d"
      },
      "execution_count": 83,
      "outputs": [
        {
          "output_type": "execute_result",
          "data": {
            "text/plain": [
              "tensor([0.0326, 0.0030, 0.1615, 0.0030, 0.8000])"
            ]
          },
          "metadata": {},
          "execution_count": 83
        }
      ]
    },
    {
      "cell_type": "code",
      "source": [
        "class LayerNorm1d: # (used to be BatchNorm1d)\n",
        "\n",
        "  def __init__(self, dim, eps=1e-5, momentum=0.1):\n",
        "    self.eps = eps\n",
        "    self.gamma = torch.ones(dim)\n",
        "    self.beta = torch.zeros(dim)\n",
        "\n",
        "  def __call__(self, x):\n",
        "    # calculate the forward pass\n",
        "    xmean = x.mean(1, keepdim=True) # batch mean\n",
        "    xvar = x.var(1, keepdim=True) # batch variance\n",
        "    xhat = (x - xmean) / torch.sqrt(xvar + self.eps) # normalize to unit variance\n",
        "    self.out = self.gamma * xhat + self.beta\n",
        "    return self.out\n",
        "\n",
        "  def parameters(self):\n",
        "    return [self.gamma, self.beta]\n",
        "\n",
        "torch.manual_seed(1337)\n",
        "module = LayerNorm1d(100)\n",
        "x = torch.randn(32, 100) # batch size 32 of 100-dimensional vectors\n",
        "x = module(x)\n",
        "x.shape"
      ],
      "metadata": {
        "colab": {
          "base_uri": "https://localhost:8080/"
        },
        "id": "gr2UIOwUafdk",
        "outputId": "56da6426-d1fa-4514-e45d-6c7f29893e58"
      },
      "execution_count": 84,
      "outputs": [
        {
          "output_type": "execute_result",
          "data": {
            "text/plain": [
              "torch.Size([32, 100])"
            ]
          },
          "metadata": {},
          "execution_count": 84
        }
      ]
    },
    {
      "cell_type": "code",
      "source": [
        "x[:,0].mean(), x[:,0].std() # mean,std of one feature across all batch inputs"
      ],
      "metadata": {
        "colab": {
          "base_uri": "https://localhost:8080/"
        },
        "id": "XmQ3MJWWamKE",
        "outputId": "425e59fe-e44f-453b-b571-2ee40a333de4"
      },
      "execution_count": 85,
      "outputs": [
        {
          "output_type": "execute_result",
          "data": {
            "text/plain": [
              "(tensor(0.1469), tensor(0.8803))"
            ]
          },
          "metadata": {},
          "execution_count": 85
        }
      ]
    },
    {
      "cell_type": "code",
      "source": [
        "x[0,:].mean(), x[0,:].std() # mean,std of a single input from the batch, of its features"
      ],
      "metadata": {
        "colab": {
          "base_uri": "https://localhost:8080/"
        },
        "id": "oZlfqwUHaos5",
        "outputId": "8102589e-2de4-486f-cf4f-6f1075c792a4"
      },
      "execution_count": 86,
      "outputs": [
        {
          "output_type": "execute_result",
          "data": {
            "text/plain": [
              "(tensor(-9.5367e-09), tensor(1.0000))"
            ]
          },
          "metadata": {},
          "execution_count": 86
        }
      ]
    },
    {
      "cell_type": "code",
      "source": [
        "import torch\n",
        "import torch.nn as nn\n",
        "from torch.nn import functional as F\n",
        "\n",
        "# hyperparameters\n",
        "batch_size = 16 # how many independent sequences will we process in parallel?\n",
        "block_size = 32 # what is the maximum context length for predictions?\n",
        "max_iters = 5000\n",
        "eval_interval = 100\n",
        "learning_rate = 1e-3\n",
        "device = 'cuda' if torch.cuda.is_available() else 'cpu'\n",
        "eval_iters = 200\n",
        "n_embd = 64\n",
        "n_head = 4\n",
        "n_layer = 4\n",
        "dropout = 0.0\n",
        "# ------------\n",
        "\n",
        "torch.manual_seed(1337)\n",
        "with open('input.txt', 'r', encoding='utf-8') as f:\n",
        "    text = f.read()\n",
        "\n",
        "# here are all the unique characters that occur in this text\n",
        "chars = sorted(list(set(text)))\n",
        "vocab_size = len(chars)\n",
        "# create a mapping from characters to integers\n",
        "stoi = { ch:i for i,ch in enumerate(chars) }\n",
        "itos = { i:ch for i,ch in enumerate(chars) }\n",
        "encode = lambda s: [stoi[c] for c in s] # encoder: take a string, output a list of integers\n",
        "decode = lambda l: ''.join([itos[i] for i in l]) # decoder: take a list of integers, output a string\n",
        "\n",
        "# Train and test splits\n",
        "data = torch.tensor(encode(text), dtype=torch.long)\n",
        "n = int(0.9*len(data)) # first 90% will be train, rest val\n",
        "train_data = data[:n]\n",
        "val_data = data[n:]\n",
        "\n",
        "# data loading\n",
        "def get_batch(split):\n",
        "    # generate a small batch of data of inputs x and targets y\n",
        "    data = train_data if split == 'train' else val_data\n",
        "    ix = torch.randint(len(data) - block_size, (batch_size,))\n",
        "    x = torch.stack([data[i:i+block_size] for i in ix])\n",
        "    y = torch.stack([data[i+1:i+block_size+1] for i in ix])\n",
        "    x, y = x.to(device), y.to(device)\n",
        "    return x, y\n",
        "\n",
        "@torch.no_grad()\n",
        "def estimate_loss():\n",
        "    out = {}\n",
        "    model.eval()\n",
        "    for split in ['train', 'val']:\n",
        "        losses = torch.zeros(eval_iters)\n",
        "        for k in range(eval_iters):\n",
        "            X, Y = get_batch(split)\n",
        "            logits, loss = model(X, Y)\n",
        "            losses[k] = loss.item()\n",
        "        out[split] = losses.mean()\n",
        "    model.train()\n",
        "    return out\n",
        "\n",
        "class Head(nn.Module):\n",
        "    \"\"\" one head of self-attention \"\"\"\n",
        "\n",
        "    def __init__(self, head_size):\n",
        "        super().__init__()\n",
        "        self.key = nn.Linear(n_embd, head_size, bias=False)\n",
        "        self.query = nn.Linear(n_embd, head_size, bias=False)\n",
        "        self.value = nn.Linear(n_embd, head_size, bias=False)\n",
        "        self.register_buffer('tril', torch.tril(torch.ones(block_size, block_size)))\n",
        "\n",
        "        self.dropout = nn.Dropout(dropout)\n",
        "\n",
        "    def forward(self, x):\n",
        "        B,T,C = x.shape\n",
        "        k = self.key(x)   # (B,T,C)\n",
        "        q = self.query(x) # (B,T,C)\n",
        "        # compute attention scores (\"affinities\")\n",
        "        wei = q @ k.transpose(-2,-1) * C**-0.5 # (B, T, C) @ (B, C, T) -> (B, T, T)\n",
        "        wei = wei.masked_fill(self.tril[:T, :T] == 0, float('-inf')) # (B, T, T)\n",
        "        wei = F.softmax(wei, dim=-1) # (B, T, T)\n",
        "        wei = self.dropout(wei)\n",
        "        # perform the weighted aggregation of the values\n",
        "        v = self.value(x) # (B,T,C)\n",
        "        out = wei @ v # (B, T, T) @ (B, T, C) -> (B, T, C)\n",
        "        return out\n",
        "\n",
        "class MultiHeadAttention(nn.Module):\n",
        "    \"\"\" multiple heads of self-attention in parallel \"\"\"\n",
        "\n",
        "    def __init__(self, num_heads, head_size):\n",
        "        super().__init__()\n",
        "        self.heads = nn.ModuleList([Head(head_size) for _ in range(num_heads)])\n",
        "        self.proj = nn.Linear(n_embd, n_embd)\n",
        "        self.dropout = nn.Dropout(dropout)\n",
        "\n",
        "    def forward(self, x):\n",
        "        out = torch.cat([h(x) for h in self.heads], dim=-1)\n",
        "        out = self.dropout(self.proj(out))\n",
        "        return out\n",
        "\n",
        "class FeedFoward(nn.Module):\n",
        "    \"\"\" a simple linear layer followed by a non-linearity \"\"\"\n",
        "\n",
        "    def __init__(self, n_embd):\n",
        "        super().__init__()\n",
        "        self.net = nn.Sequential(\n",
        "            nn.Linear(n_embd, 4 * n_embd),\n",
        "            nn.ReLU(),\n",
        "            nn.Linear(4 * n_embd, n_embd),\n",
        "            nn.Dropout(dropout),\n",
        "        )\n",
        "\n",
        "    def forward(self, x):\n",
        "        return self.net(x)\n",
        "\n",
        "class Block(nn.Module):\n",
        "    \"\"\" Transformer block: communication followed by computation \"\"\"\n",
        "\n",
        "    def __init__(self, n_embd, n_head):\n",
        "        # n_embd: embedding dimension, n_head: the number of heads we'd like\n",
        "        super().__init__()\n",
        "        head_size = n_embd // n_head\n",
        "        self.sa = MultiHeadAttention(n_head, head_size)\n",
        "        self.ffwd = FeedFoward(n_embd)\n",
        "        self.ln1 = nn.LayerNorm(n_embd)\n",
        "        self.ln2 = nn.LayerNorm(n_embd)\n",
        "\n",
        "    def forward(self, x):\n",
        "        x = x + self.sa(self.ln1(x))\n",
        "        x = x + self.ffwd(self.ln2(x))\n",
        "        return x\n",
        "\n",
        "# super simple bigram model\n",
        "class BigramLanguageModel(nn.Module):\n",
        "\n",
        "    def __init__(self):\n",
        "        super().__init__()\n",
        "        # each token directly reads off the logits for the next token from a lookup table\n",
        "        self.token_embedding_table = nn.Embedding(vocab_size, n_embd)\n",
        "        self.position_embedding_table = nn.Embedding(block_size, n_embd)\n",
        "        self.blocks = nn.Sequential(*[Block(n_embd, n_head=n_head) for _ in range(n_layer)])\n",
        "        self.ln_f = nn.LayerNorm(n_embd) # final layer norm\n",
        "        self.lm_head = nn.Linear(n_embd, vocab_size)\n",
        "\n",
        "    def forward(self, idx, targets=None):\n",
        "        B, T = idx.shape\n",
        "\n",
        "        # idx and targets are both (B,T) tensor of integers\n",
        "        tok_emb = self.token_embedding_table(idx) # (B,T,C)\n",
        "        pos_emb = self.position_embedding_table(torch.arange(T, device=device)) # (T,C)\n",
        "        x = tok_emb + pos_emb # (B,T,C)\n",
        "        x = self.blocks(x) # (B,T,C)\n",
        "        x = self.ln_f(x) # (B,T,C)\n",
        "        logits = self.lm_head(x) # (B,T,vocab_size)\n",
        "\n",
        "        if targets is None:\n",
        "            loss = None\n",
        "        else:\n",
        "            B, T, C = logits.shape\n",
        "            logits = logits.view(B*T, C)\n",
        "            targets = targets.view(B*T)\n",
        "            loss = F.cross_entropy(logits, targets)\n",
        "\n",
        "        return logits, loss\n",
        "\n",
        "    def generate(self, idx, max_new_tokens):\n",
        "        # idx is (B, T) array of indices in the current context\n",
        "        for _ in range(max_new_tokens):\n",
        "            # crop idx to the last block_size tokens\n",
        "            idx_cond = idx[:, -block_size:]\n",
        "            # get the predictions\n",
        "            logits, loss = self(idx_cond)\n",
        "            # focus only on the last time step\n",
        "            logits = logits[:, -1, :] # becomes (B, C)\n",
        "            # apply softmax to get probabilities\n",
        "            probs = F.softmax(logits, dim=-1) # (B, C)\n",
        "            # sample from the distribution\n",
        "            idx_next = torch.multinomial(probs, num_samples=1) # (B, 1)\n",
        "            # append sampled index to the running sequence\n",
        "            idx = torch.cat((idx, idx_next), dim=1) # (B, T+1)\n",
        "        return idx\n",
        "\n",
        "model = BigramLanguageModel()\n",
        "m = model.to(device)\n",
        "# print the number of parameters in the model\n",
        "print(sum(p.numel() for p in m.parameters())/1e6, 'M parameters')\n",
        "\n",
        "# create a PyTorch optimizer\n",
        "optimizer = torch.optim.AdamW(model.parameters(), lr=learning_rate)\n",
        "\n",
        "for iter in range(max_iters):\n",
        "\n",
        "    # every once in a while evaluate the loss on train and val sets\n",
        "    if iter % eval_interval == 0 or iter == max_iters - 1:\n",
        "        losses = estimate_loss()\n",
        "        print(f\"step {iter}: train loss {losses['train']:.4f}, val loss {losses['val']:.4f}\")\n",
        "\n",
        "    # sample a batch of data\n",
        "    xb, yb = get_batch('train')\n",
        "\n",
        "    # evaluate the loss\n",
        "    logits, loss = model(xb, yb)\n",
        "    optimizer.zero_grad(set_to_none=True)\n",
        "    loss.backward()\n",
        "    optimizer.step()\n",
        "\n",
        "# generate from the model\n",
        "context = torch.zeros((1, 1), dtype=torch.long, device=device)\n",
        "print(decode(m.generate(context, max_new_tokens=2000)[0].tolist()))\n"
      ],
      "metadata": {
        "colab": {
          "base_uri": "https://localhost:8080/"
        },
        "id": "yXS-z1UIarCB",
        "outputId": "530c20c0-065d-40cd-9548-dec9f2d7c651"
      },
      "execution_count": 87,
      "outputs": [
        {
          "output_type": "stream",
          "name": "stdout",
          "text": [
            "0.211793 M parameters\n",
            "step 0: train loss 4.4953, val loss 4.4803\n",
            "step 100: train loss 2.6757, val loss 2.6205\n",
            "step 200: train loss 2.5163, val loss 2.5193\n",
            "step 300: train loss 2.4242, val loss 2.4397\n",
            "step 400: train loss 2.3612, val loss 2.3730\n",
            "step 500: train loss 2.2570, val loss 2.2888\n",
            "step 600: train loss 2.1629, val loss 2.2440\n",
            "step 700: train loss 2.0810, val loss 2.2104\n",
            "step 800: train loss 1.9947, val loss 2.1697\n",
            "step 900: train loss 1.9149, val loss 2.1436\n",
            "step 1000: train loss 1.8229, val loss 2.1327\n",
            "step 1100: train loss 1.7407, val loss 2.0937\n",
            "step 1200: train loss 1.6689, val loss 2.1158\n",
            "step 1300: train loss 1.5776, val loss 2.1173\n",
            "step 1400: train loss 1.5113, val loss 2.1370\n",
            "step 1500: train loss 1.4444, val loss 2.1304\n",
            "step 1600: train loss 1.3759, val loss 2.1770\n",
            "step 1700: train loss 1.3117, val loss 2.1965\n",
            "step 1800: train loss 1.2302, val loss 2.2559\n",
            "step 1900: train loss 1.1813, val loss 2.2697\n",
            "step 2000: train loss 1.1177, val loss 2.3218\n",
            "step 2100: train loss 1.0737, val loss 2.3396\n",
            "step 2200: train loss 1.0036, val loss 2.4181\n",
            "step 2300: train loss 0.9581, val loss 2.5113\n",
            "step 2400: train loss 0.9147, val loss 2.5602\n",
            "step 2500: train loss 0.8573, val loss 2.6122\n",
            "step 2600: train loss 0.8148, val loss 2.6318\n",
            "step 2700: train loss 0.7849, val loss 2.7754\n",
            "step 2800: train loss 0.7459, val loss 2.7882\n",
            "step 2900: train loss 0.7060, val loss 2.8318\n",
            "step 3000: train loss 0.6837, val loss 2.9428\n",
            "step 3100: train loss 0.6669, val loss 3.0067\n",
            "step 3200: train loss 0.6296, val loss 3.0942\n",
            "step 3300: train loss 0.6063, val loss 3.1720\n",
            "step 3400: train loss 0.5845, val loss 3.1500\n",
            "step 3500: train loss 0.5664, val loss 3.2537\n",
            "step 3600: train loss 0.5474, val loss 3.2672\n",
            "step 3700: train loss 0.5311, val loss 3.3963\n",
            "step 3800: train loss 0.5313, val loss 3.4149\n",
            "step 3900: train loss 0.4942, val loss 3.4351\n",
            "step 4000: train loss 0.5139, val loss 3.5244\n",
            "step 4100: train loss 0.4873, val loss 3.4904\n",
            "step 4200: train loss 0.4719, val loss 3.5091\n",
            "step 4300: train loss 0.4556, val loss 3.7138\n",
            "step 4400: train loss 0.4547, val loss 3.6398\n",
            "step 4500: train loss 0.4545, val loss 3.6864\n",
            "step 4600: train loss 0.4454, val loss 3.6859\n",
            "step 4700: train loss 0.4480, val loss 3.7860\n",
            "step 4800: train loss 0.4269, val loss 3.7131\n",
            "step 4900: train loss 0.4274, val loss 3.8121\n",
            "step 4999: train loss 0.4278, val loss 3.7918\n",
            "\n",
            "It was to majour to ho hoped tave have he swant even that.\n",
            "\n",
            "Career highlight: On November 176, in 1958, Pele became part of his finances, said he in a paign with a shobad tooth thith 198 World Cup tally.\n",
            "\n",
            "4s inels. Together, their final abil his game? Aftect was semet unganing at an acknswiser Real Madrid’ser Park in a processincted by Europeack Cup vielon Cuptaley. He was in debut as and did line1T, League. After leading the Cosmost teand univer huge tally award Madronge 2002 times contrie tiung 22822 and became the down’t entalen at their thitte agess of just 8,00. \n",
            "\n",
            "Made his peak with apn’t entraking hat-trick one Bundeslifing his finest full season, Bayern won a hat-trick of Bundesliga titles between 1977 and 1976. On the international staged the Ballon d; Diego Messi was placke to the passinn hat international matched to his first-team day kisser remonature in-field heady a heady predarkus player had down. He moved to Naples.\n",
            "\n",
            "Just 5ft 5ell vadoadi Rinal Madrido fat the to scorer he twaled moritions will game at he perfect ending - Zinedine Zened 20 lifest time. Natury for more to his werencan in the final won the 2002 World Cup before that.\n",
            "\n",
            "Career highlight: On Nontethern Interinal was gift 74 and players straking his – four-yet could conce Beckenbauer was in 1984, the fit towering Ronaldo was never coured to become the paid oca, he saw cork debut in the league title after a stwick for Portugal tahtaking his pregnant gnameral made his 3eman Dutch League games. World Cup tropeo their brought they field he is in a prianted beco, Mandent greatest stymel. It’s named a breathtaking hat-trick of Bundeslon and freeturnal travelled thank at 202s – the round 20 when ed kissed to historm.\n",
            "\n",
            "But to made his swean \n",
            "\n",
            "2. Pele\n",
            "\n",
            "At the agest perform after just 8,00. Tosty he yomeland of the story about how Ajax and even a selent produce moces quteer stpeet.\n",
            "\n",
            "\n",
            "At for young football by the strItles twan sell thave sense of steel. It’s not all of them having of the most one neve\n"
          ]
        }
      ]
    }
  ]
}